{
 "cells": [
  {
   "cell_type": "markdown",
   "metadata": {},
   "source": [
    "# Example 1:  testing the time spent on the website\n",
    "\n",
    "The One Sample T Test describes the real life business application.\n",
    "\n",
    "**Problem:** \n",
    "\n",
    "Is the time spent on the Website really 170 seconds?\n",
    "\n",
    "\n",
    "**Detail:**\n",
    "\n",
    "* There are average times spent on the website obtained from the software.\n",
    "\n",
    "* When these data are examined, a manager or an employee has the opinion that these values are not like this and they want to test this situation.\n",
    "\n",
    "**Hypothesis:** \n",
    "\n",
    "* M:  Average time spent on the website\n",
    "* H0: M  = 170 second\n",
    "* H1: M! = 170 second   "
   ]
  },
  {
   "cell_type": "code",
   "execution_count": 1,
   "metadata": {},
   "outputs": [],
   "source": [
    "import numpy as np\n",
    "import pandas as pd\n",
    "import scipy.stats as stats"
   ]
  },
  {
   "cell_type": "code",
   "execution_count": 2,
   "metadata": {},
   "outputs": [
    {
     "name": "stdout",
     "output_type": "stream",
     "text": [
      "[ 17 160 234 149 107 197  75 201 225 211]\n",
      "DescribeResult(nobs=49, minmax=(17, 251), mean=154.57142857142858, variance=2629.875, skewness=-0.33226075851537823, kurtosis=-0.10832302711020958)\n"
     ]
    }
   ],
   "source": [
    "measurements = np.array([17, 160, 234, 149, 107, 197, 75, 201, 225, 211, 119,\n",
    "                         157, 145, 127, 244, 163, 114, 145, 65, 112, 185, 202, 146,\n",
    "                        203, 224, 203, 114, 188, 156, 187, 154, 177, 95, 165, 50, 110,\n",
    "                        216, 138, 151, 166, 135, 155, 84, 251, 173, 131, 207, 121, 120])\n",
    "\n",
    "print(measurements[0:10])\n",
    "print(stats.describe(measurements))"
   ]
  },
  {
   "cell_type": "markdown",
   "metadata": {},
   "source": [
    "### Normality Assumption\n",
    "\n",
    "It is tested whether the distribution of the measurements data set in the problem is normal or not. \n",
    "Normality assumption is realized with graphics and some tests.\n",
    "\n",
    "Graph methods: qqplot and histogram,\n",
    "test method: shapiro-wilks test."
   ]
  },
  {
   "cell_type": "code",
   "execution_count": 3,
   "metadata": {},
   "outputs": [
    {
     "data": {
      "image/png": "[encoded data removed]",
      "text/plain": [
       "<Figure size 432x288 with 1 Axes>"
      ]
     },
     "metadata": {
      "needs_background": "light"
     },
     "output_type": "display_data"
    }
   ],
   "source": [
    "#histogram\n",
    "pd.DataFrame(measurements).plot.hist();"
   ]
  },
  {
   "cell_type": "code",
   "execution_count": 4,
   "metadata": {},
   "outputs": [
    {
     "data": {
      "image/png": "[encoded data removed]",
      "text/plain": [
       "<Figure size 432x288 with 1 Axes>"
      ]
     },
     "metadata": {
      "needs_background": "light"
     },
     "output_type": "display_data"
    }
   ],
   "source": [
    "#qqplot\n",
    "import pylab\n",
    "stats.probplot(measurements, dist=\"norm\", plot=pylab)\n",
    "pylab.show()"
   ]
  },
  {
   "cell_type": "code",
   "execution_count": 5,
   "metadata": {},
   "outputs": [
    {
     "name": "stdout",
     "output_type": "stream",
     "text": [
      "ShapiroResult(statistic=0.9852723479270935, pvalue=0.79278963804245)\n",
      "T calculation statistic(test statistics): 0.9852723479270935\n",
      "Calculated p_value: 0.79278963804245\n"
     ]
    }
   ],
   "source": [
    "# Shapiro-Wilks Test\n",
    "\n",
    "#Hypothesis: \n",
    "#H0: There is no statistical difference between sample distribution and theoretical distribution.\n",
    "#H1: There is a difference.\n",
    "#p_value > 0.05(alpha error value) => H0 irrefutable.\n",
    "\n",
    "from scipy.stats import shapiro\n",
    "print(shapiro(measurements))\n",
    "print(\"T calculation statistic(test statistics): \" + str(shapiro(measurements) [0]))\n",
    "print(\"Calculated p_value: \" + str(shapiro(measurements) [1]))"
   ]
  },
  {
   "cell_type": "markdown",
   "metadata": {},
   "source": [
    "### One Sample T Test\n",
    "\n",
    "Application of one sample T test with parametric hypothesis test.\n",
    "\n",
    "It has been seen that the assumption of normality is provided in the graphic and test results above.\n",
    "\"If the distribution is normal, a One Sample T Test can be done.\""
   ]
  },
  {
   "cell_type": "code",
   "execution_count": 6,
   "metadata": {},
   "outputs": [
    {
     "data": {
      "text/plain": [
       "Ttest_1sampResult(statistic=-2.10598950298473, pvalue=0.04046063209459197)"
      ]
     },
     "execution_count": 6,
     "metadata": {},
     "output_type": "execute_result"
    }
   ],
   "source": [
    "# Hypothesis testing\n",
    "# p_value < 0.05(alpha error value) => H0 denied.\n",
    "# The average time spent on the website is not 170.\n",
    "\n",
    "stats.ttest_1samp(measurements, popmean = 170)"
   ]
  },
  {
   "cell_type": "markdown",
   "metadata": {},
   "source": [
    "### Nonparametric One Sample T Test   (sign test)"
   ]
  },
  {
   "cell_type": "code",
   "execution_count": 7,
   "metadata": {},
   "outputs": [
    {
     "name": "stdout",
     "output_type": "stream",
     "text": [
      "(-6.5, 0.08543313315739448)\n",
      "test statistics: -6.5\n",
      "p_value: 0.08543313315739448\n"
     ]
    }
   ],
   "source": [
    "# p_value > 0.05(alpha error value) => H0 irrefutable.\n",
    "# Since the dataset in the problem is normal distribution (symmetric, parametric), the result of this test is not correct.\n",
    "# The nonparametric test result would be correct if the normality assumption was not provided.\n",
    "\n",
    "from statsmodels.stats.descriptivestats import sign_test\n",
    "print(sign_test(measurements, 170))\n",
    "print(\"test statistics: \" + str(sign_test(measurements, 170) [0]))\n",
    "print(\"p_value: \"      + str(sign_test(measurements, 170) [1]))"
   ]
  },
  {
   "cell_type": "markdown",
   "metadata": {},
   "source": [
    "# Example 2:  conversion rate test\n",
    "\n",
    "\n",
    "The One Sample Rate Test describes the real-life business application.\n",
    "\n",
    "**Problem:**\n",
    "\n",
    "An ad was given on a subject with a software and it was stated that a conversion rate of 0.125 was achieved by the software related to this ad. But this situation is wanted to be controlled. Because this is a high rate and does not match when the incomes are examined.\n",
    "\n",
    "\n",
    "**Detail:**\n",
    "\n",
    "* 500 people clicked on the ads, 40 of them came to our site and made shopping.\n",
    "\n",
    "* Conversion ratio obtained through the sample: 40/500 = 0.08\n",
    "\n",
    "**Hypothesis:** \n",
    "\n",
    "* p: conversion rate\n",
    "* H0: p  =  0.125 \n",
    "* H1: p !=  0.125"
   ]
  },
  {
   "cell_type": "code",
   "execution_count": 8,
   "metadata": {},
   "outputs": [
    {
     "data": {
      "text/plain": [
       "(-3.7090151628513017, 0.0002080669689845979)"
      ]
     },
     "execution_count": 8,
     "metadata": {},
     "output_type": "execute_result"
    }
   ],
   "source": [
    "from statsmodels.stats.proportion import proportions_ztest\n",
    "\n",
    "count = 40        #number of success\n",
    "nobs  = 500       #number of observations\n",
    "value = 0.125     #desired value to be tested\n",
    "\n",
    "# p_value < 0.05(alpha error value) => H0 denied.\n",
    "proportions_ztest(count,nobs,value)"
   ]
  },
  {
   "cell_type": "markdown",
   "metadata": {},
   "source": [
    "## Example 3:  success test of the ML model (AB test)\n",
    "\n",
    "Two Independent Sample T Test is a real life business application.\n",
    "\n",
    "**Problem:**\n",
    "\n",
    "An investment has been made in an ML project. It is desired to compare the income generated as a result of the predictions it produces and the revenues generated by the old system and to test whether there is a significant difference.\n",
    "\n",
    "\n",
    "**Detail:**\n",
    "\n",
    "* The model has been developed and integrated into the website.\n",
    "\n",
    "* Site users should be divided into two according to a certain rule.\n",
    "\n",
    "* A group old, group b new system.\n",
    "\n",
    "* A (legacy system): user group encountering products without product recommendation\n",
    "\n",
    "* B (new system): the group of users encountering the products according to the predictions of the machine learning algorithm\n",
    "\n",
    "* It is desired to test whether a meaningful work is done in terms of income.\n",
    "\n",
    "**Hypothesis:** \n",
    "\n",
    "* M:  average income\n",
    "* M1: average income of A\n",
    "* M2: average income of B\n",
    "\n",
    "\n",
    "* H0: M1 = M2  \n",
    "* H1: M1 !=  M2"
   ]
  },
  {
   "cell_type": "code",
   "execution_count": 9,
   "metadata": {},
   "outputs": [],
   "source": [
    "# DATA TYPE I"
   ]
  },
  {
   "cell_type": "code",
   "execution_count": 10,
   "metadata": {},
   "outputs": [
    {
     "data": {
      "text/html": [
       "<div>\n",
       "<style scoped>\n",
       "    .dataframe tbody tr th:only-of-type {\n",
       "        vertical-align: middle;\n",
       "    }\n",
       "\n",
       "    .dataframe tbody tr th {\n",
       "        vertical-align: top;\n",
       "    }\n",
       "\n",
       "    .dataframe thead th {\n",
       "        text-align: right;\n",
       "    }\n",
       "</style>\n",
       "<table border=\"1\" class=\"dataframe\">\n",
       "  <thead>\n",
       "    <tr style=\"text-align: right;\">\n",
       "      <th></th>\n",
       "      <th>A</th>\n",
       "      <th>B</th>\n",
       "    </tr>\n",
       "  </thead>\n",
       "  <tbody>\n",
       "    <tr>\n",
       "      <th>0</th>\n",
       "      <td>30</td>\n",
       "      <td>37</td>\n",
       "    </tr>\n",
       "    <tr>\n",
       "      <th>1</th>\n",
       "      <td>27</td>\n",
       "      <td>39</td>\n",
       "    </tr>\n",
       "    <tr>\n",
       "      <th>2</th>\n",
       "      <td>21</td>\n",
       "      <td>31</td>\n",
       "    </tr>\n",
       "    <tr>\n",
       "      <th>3</th>\n",
       "      <td>27</td>\n",
       "      <td>31</td>\n",
       "    </tr>\n",
       "    <tr>\n",
       "      <th>4</th>\n",
       "      <td>29</td>\n",
       "      <td>34</td>\n",
       "    </tr>\n",
       "  </tbody>\n",
       "</table>\n",
       "</div>"
      ],
      "text/plain": [
       "    A   B\n",
       "0  30  37\n",
       "1  27  39\n",
       "2  21  31\n",
       "3  27  31\n",
       "4  29  34"
      ]
     },
     "execution_count": 10,
     "metadata": {},
     "output_type": "execute_result"
    }
   ],
   "source": [
    "A = pd.DataFrame([30,27,21,27,29,30,20,20,27,32,35,22,24,23,25,27,23,27,23,\n",
    "                  25,21,18,24,26,33,26,27,28,19,25])\n",
    "\n",
    "B = pd.DataFrame([37,39,31,31,34,38,30,36,29,28,38,28,37,37,30,32,31,31,27,\n",
    "                 32,33,33,33,31,32,33,26,32,33,29])\n",
    "\n",
    "A_B = pd.concat([A,B], axis = 1)\n",
    "A_B.columns = [\"A\",\"B\"]\n",
    "\n",
    "A_B.head()"
   ]
  },
  {
   "cell_type": "code",
   "execution_count": 11,
   "metadata": {
    "slideshow": {
     "slide_type": "skip"
    }
   },
   "outputs": [],
   "source": [
    "# DATA TYPE II"
   ]
  },
  {
   "cell_type": "code",
   "execution_count": 12,
   "metadata": {},
   "outputs": [
    {
     "name": "stdout",
     "output_type": "stream",
     "text": [
      "   income GROUP\n",
      "0      30     A\n",
      "1      27     A\n",
      "2      21     A\n",
      "3      27     A\n",
      "4      29     A\n",
      "    income GROUP\n",
      "25      33     B\n",
      "26      26     B\n",
      "27      32     B\n",
      "28      33     B\n",
      "29      29     B\n"
     ]
    },
    {
     "data": {
      "text/html": [
       "<div>\n",
       "<style scoped>\n",
       "    .dataframe tbody tr th:only-of-type {\n",
       "        vertical-align: middle;\n",
       "    }\n",
       "\n",
       "    .dataframe tbody tr th {\n",
       "        vertical-align: top;\n",
       "    }\n",
       "\n",
       "    .dataframe thead th {\n",
       "        text-align: right;\n",
       "    }\n",
       "</style>\n",
       "<table border=\"1\" class=\"dataframe\">\n",
       "  <thead>\n",
       "    <tr style=\"text-align: right;\">\n",
       "      <th></th>\n",
       "      <th>income</th>\n",
       "      <th>GROUP</th>\n",
       "    </tr>\n",
       "  </thead>\n",
       "  <tbody>\n",
       "    <tr>\n",
       "      <th>0</th>\n",
       "      <td>30</td>\n",
       "      <td>A</td>\n",
       "    </tr>\n",
       "    <tr>\n",
       "      <th>1</th>\n",
       "      <td>27</td>\n",
       "      <td>A</td>\n",
       "    </tr>\n",
       "    <tr>\n",
       "      <th>2</th>\n",
       "      <td>21</td>\n",
       "      <td>A</td>\n",
       "    </tr>\n",
       "    <tr>\n",
       "      <th>3</th>\n",
       "      <td>27</td>\n",
       "      <td>A</td>\n",
       "    </tr>\n",
       "    <tr>\n",
       "      <th>4</th>\n",
       "      <td>29</td>\n",
       "      <td>A</td>\n",
       "    </tr>\n",
       "  </tbody>\n",
       "</table>\n",
       "</div>"
      ],
      "text/plain": [
       "   income GROUP\n",
       "0      30     A\n",
       "1      27     A\n",
       "2      21     A\n",
       "3      27     A\n",
       "4      29     A"
      ]
     },
     "execution_count": 12,
     "metadata": {},
     "output_type": "execute_result"
    }
   ],
   "source": [
    "A = pd.DataFrame([30,27,21,27,29,30,20,20,27,32,35,22,24,23,25,27,23,27,23,\n",
    "                  25,21,18,24,26,33,26,27,28,19,25])\n",
    "\n",
    "B = pd.DataFrame([37,39,31,31,34,38,30,36,29,28,38,28,37,37,30,32,31,31,27,\n",
    "                 32,33,33,33,31,32,33,26,32,33,29])\n",
    "\n",
    "# Group of A and A\n",
    "GRUP_A = np.arange(len(A))\n",
    "GRUP_A = pd.DataFrame(GRUP_A)\n",
    "GRUP_A[:] = \"A\"\n",
    "A = pd.concat([A, GRUP_A], axis = 1)\n",
    "\n",
    "# Group of B and B\n",
    "GRUP_B = np.arange(len(B))\n",
    "GRUP_B = pd.DataFrame(GRUP_B)\n",
    "GRUP_B[:] = \"B\"\n",
    "B = pd.concat([B, GRUP_B], axis = 1)\n",
    "\n",
    "# All data\n",
    "AB = pd.concat([A,B])\n",
    "AB.columns = [\"income\", \"GROUP\"]\n",
    "print(AB.head())\n",
    "print(AB.tail())\n",
    "AB.head()"
   ]
  },
  {
   "cell_type": "code",
   "execution_count": 13,
   "metadata": {},
   "outputs": [
    {
     "data": {
      "image/png": "[encoded data removed]",
      "text/plain": [
       "<Figure size 432x288 with 1 Axes>"
      ]
     },
     "metadata": {
      "needs_background": "light"
     },
     "output_type": "display_data"
    }
   ],
   "source": [
    "import seaborn as sns\n",
    "sns.boxplot(x = \"GROUP\", y = \"income\", data = AB);"
   ]
  },
  {
   "cell_type": "markdown",
   "metadata": {},
   "source": [
    "### Assumption Check"
   ]
  },
  {
   "cell_type": "code",
   "execution_count": 14,
   "metadata": {},
   "outputs": [
    {
     "name": "stdout",
     "output_type": "stream",
     "text": [
      "ShapiroResult(statistic=0.9789242148399353, pvalue=0.7962799668312073)\n",
      "ShapiroResult(statistic=0.9561260342597961, pvalue=0.24584221839904785)\n"
     ]
    },
    {
     "data": {
      "text/plain": [
       "LeveneResult(statistic=1.1101802757158004, pvalue=0.2964124900636569)"
      ]
     },
     "execution_count": 14,
     "metadata": {},
     "output_type": "execute_result"
    }
   ],
   "source": [
    "# Normality Assumption\n",
    "# Hypothesis: \n",
    "# H0: There is no statistical difference between sample distribution and theoretical distribution.\n",
    "# H1: There is a difference.\n",
    "# p_value > 0.05(alpha error value) => H0 irrefutable.\n",
    "\n",
    "from scipy.stats import shapiro\n",
    "print(shapiro(A_B.A))       #Select A in dataset A_B\n",
    "print(shapiro(A_B.B))       #Select B in dataset A_B\n",
    "\n",
    "# Variance Homogeneity assumption\n",
    "# Hypothesis: \n",
    "# H0: Variances are homogeneous. (The income averages of systems A and B are equal.)\n",
    "# H1: Variances are not homogeneous.\n",
    "# p_value > 0.05(alpha error value) => H0 irrefutable.\n",
    "\n",
    "stats.levene(A_B.A, A_B.B)"
   ]
  },
  {
   "cell_type": "markdown",
   "metadata": {},
   "source": [
    "### Two Independent Sample T Test\n",
    "\n",
    "Since the above two assumptions are satisfied, the \"hypothesis of an independent two-sample t test\" is tested."
   ]
  },
  {
   "cell_type": "code",
   "execution_count": 15,
   "metadata": {},
   "outputs": [
    {
     "name": "stdout",
     "output_type": "stream",
     "text": [
      "Ttest_indResult(statistic=-7.028690967745927, pvalue=2.6233215605475075e-09)\n",
      "Test Statistics = -7.0287, p-value = 0.0000\n"
     ]
    }
   ],
   "source": [
    "# Hypothesis:\n",
    "# M: average income\n",
    "# H0: M1 = M2  \n",
    "# H1: M1 !=  M2\n",
    "\n",
    "# equal_var=True ==> \"ensures variance homogeneity\"\n",
    "# p_value < 0.05(alpha error value) => H0 denied.\n",
    "\n",
    "print(stats.ttest_ind(A_B[\"A\"], A_B[\"B\"], equal_var = True)) \n",
    "\n",
    "test_statistics, pvalue = stats.ttest_ind(A_B[\"A\"], A_B[\"B\"], equal_var=True)\n",
    "print('Test Statistics = %.4f, p-value = %.4f' % (test_statistics, pvalue))\n",
    "\n",
    "\n",
    "# RESULT:\n",
    "#p_value < 0.05(alpha error value) => H0 denied.\n",
    "#There is a statistically significant difference between the old system and the new system. \n",
    "#This difference is in favor of the new system. "
   ]
  },
  {
   "cell_type": "markdown",
   "metadata": {},
   "source": [
    "### Nonparametric Two Independent Sample T Test  (mann-whitney test)\n",
    "\n",
    "If the assumptions of normality and variance homogeneity were not provided, this nonparametric test would be performed."
   ]
  },
  {
   "cell_type": "code",
   "execution_count": 16,
   "metadata": {},
   "outputs": [
    {
     "name": "stdout",
     "output_type": "stream",
     "text": [
      "MannwhitneyuResult(statistic=89.5, pvalue=4.778975189306267e-08)\n",
      "Test Statistics = 89.5000, p-value = 0.0000\n"
     ]
    }
   ],
   "source": [
    "print(stats.mannwhitneyu(A_B[\"A\"], A_B[\"B\"]))\n",
    "\n",
    "test_statistics, pvalue = stats.mannwhitneyu(A_B[\"A\"], A_B[\"B\"])\n",
    "print('Test Statistics = %.4f, p-value = %.4f' % (test_statistics, pvalue))"
   ]
  },
  {
   "cell_type": "markdown",
   "metadata": {},
   "source": [
    "# Example 4:  company training performance\n",
    "\n",
    "Two Dependent Sample T Test is a real-life business application.\n",
    "\n",
    "**Problem:**\n",
    "\n",
    "It is wanted to measure whether a training program provided by the company to its employees provides added value or not.\n",
    "\n",
    "**Detail:**\n",
    "\n",
    "* A department is requesting training on a subject.\n",
    "\n",
    "* Training is provided as a result of the necessary / unnecessary evaluation.\n",
    "\n",
    "* Necessary measurements are made before and after the training.\n",
    "\n",
    "* After the training program, the added value provided by the training is to be tested.\n",
    "\n",
    "**Hypothesis:** \n",
    "\n",
    "* Mb: Performance average of the people before the training\n",
    "* Ma: Performance average of the people after training\n",
    "* H0: Mb = Ma\n",
    "* H1: Mb !=  Ma"
   ]
  },
  {
   "cell_type": "code",
   "execution_count": 17,
   "metadata": {},
   "outputs": [],
   "source": [
    "before = pd.DataFrame([123,119,119,116,123,123,121,120,117,118,121,121,123,119,\n",
    "                      121,118,124,121,125,115,115,119,118,121,117,117,120,120,\n",
    "                      121,117,118,117,123,118,124,121,115,118,125,115])\n",
    "\n",
    "after = pd.DataFrame([118,127,122,132,129,123,129,132,128,130,128,138,140,130,\n",
    "                     134,134,124,140,134,129,129,138,134,124,122,126,133,127,\n",
    "                     130,130,130,132,117,130,125,129,133,120,127,123])"
   ]
  },
  {
   "cell_type": "code",
   "execution_count": 18,
   "metadata": {},
   "outputs": [
    {
     "name": "stdout",
     "output_type": "stream",
     "text": [
      "'SEPERATE' Data Set: \n",
      "\n",
      "    BEFORE  AFTER\n",
      "0     123    118\n",
      "1     119    127\n",
      "2     119    122\n",
      "3     116    132\n",
      "4     123    129 \n",
      "\n",
      "\n",
      "'BA' Data Set: \n",
      "\n",
      "    PERFORMANCE BEFORE_AFTER\n",
      "0          123       BEFORE\n",
      "1          119       BEFORE\n",
      "2          119       BEFORE\n",
      "3          116       BEFORE\n",
      "4          123       BEFORE \n",
      "\n"
     ]
    }
   ],
   "source": [
    "# DATA TYPE I\n",
    "\n",
    "SEPERATE = pd.concat([before,after], axis = 1)\n",
    "SEPERATE.columns = [\"BEFORE\",\"AFTER\"]\n",
    "print(\"'SEPERATE' Data Set: \\n\\n\", SEPERATE.head(), \"\\n\\n\")\n",
    "\n",
    "\n",
    "# DATA TYPE II\n",
    "\n",
    "#Group of before and B\n",
    "GROUP_BEFORE = np.arange(len(before))\n",
    "GROUP_BEFORE = pd.DataFrame(GROUP_BEFORE)\n",
    "GROUP_BEFORE[:] = \"BEFORE\"\n",
    "B = pd.concat([before, GROUP_BEFORE], axis = 1)\n",
    "\n",
    "#Group of after and A\n",
    "GROUP_AFTER = np.arange(len(after))\n",
    "GROUP_AFTER  = pd.DataFrame(GROUP_AFTER)\n",
    "GROUP_AFTER[:] = \"AFTER\"\n",
    "A = pd.concat([after, GROUP_AFTER], axis = 1)\n",
    "\n",
    "#All data\n",
    "BA = pd.concat([B,A])\n",
    "BA\n",
    "BA.columns = [\"PERFORMANCE\",\"BEFORE_AFTER\"]\n",
    "print(\"'BA' Data Set: \\n\\n\", BA.head(), \"\\n\")"
   ]
  },
  {
   "cell_type": "code",
   "execution_count": 19,
   "metadata": {},
   "outputs": [
    {
     "data": {
      "image/png": "[encoded data removed]",
      "text/plain": [
       "<Figure size 432x288 with 1 Axes>"
      ]
     },
     "metadata": {
      "needs_background": "light"
     },
     "output_type": "display_data"
    }
   ],
   "source": [
    "import seaborn as sns\n",
    "sns.boxplot(x = \"BEFORE_AFTER\", y = \"PERFORMANCE\", data = BA);\n",
    "\n",
    "# RESULT:\n",
    "# In the graph, the median of AFTER (the one in orange) is higher.\n",
    "# This means that after the company employees participated in the training, the performance of the employees improved.\n",
    "# We will do some tests to be able to say this result statistically."
   ]
  },
  {
   "cell_type": "markdown",
   "metadata": {},
   "source": [
    "### Assumption Check"
   ]
  },
  {
   "cell_type": "code",
   "execution_count": 20,
   "metadata": {},
   "outputs": [
    {
     "name": "stdout",
     "output_type": "stream",
     "text": [
      "ShapiroResult(statistic=0.9543656706809998, pvalue=0.10722451657056808)\n",
      "ShapiroResult(statistic=0.9780089259147644, pvalue=0.6159515380859375)\n"
     ]
    },
    {
     "data": {
      "text/plain": [
       "LeveneResult(statistic=8.31303288672351, pvalue=0.0050844511807370246)"
      ]
     },
     "execution_count": 20,
     "metadata": {},
     "output_type": "execute_result"
    }
   ],
   "source": [
    "# Normality Assumption \n",
    "# Hypothesis: \n",
    "# H0: There is no statistical difference between sample distribution and theoretical distribution.\n",
    "# H1: There is a difference.\n",
    "# p_value > 0.05(alpha error value) => H0 irrefutable.\n",
    "\n",
    "from scipy.stats import shapiro\n",
    "print(shapiro(SEPERATE.BEFORE))       #Select BEFORE in dataset SEPERATE\n",
    "print(shapiro(SEPERATE.AFTER))        #Select AFTER in dataset SEPERATE\n",
    "\n",
    "# Variance Homogeneity Assumption\n",
    "# Hypothesis: \n",
    "# H0: Variances are homogeneous. (The income averages of systems A and B are equal.)\n",
    "# H1: Variances are not homogeneous.\n",
    "# p_value < 0.05(alpha error value) => H0 denied.\n",
    "\n",
    "stats.levene(SEPERATE.BEFORE, SEPERATE.AFTER)\n",
    "\n",
    "# RESULT: \n",
    "# Normality assumption is provided.\n",
    "# The variance homogeneity assumption was not provided, but was ignored."
   ]
  },
  {
   "cell_type": "markdown",
   "metadata": {},
   "source": [
    "### Two Dependent Sample T Test\n",
    "\n",
    "Since the above two assumptions are satisfied, the \"hypothesis of an dependent two-sample t test\" is tested."
   ]
  },
  {
   "cell_type": "code",
   "execution_count": 25,
   "metadata": {},
   "outputs": [
    {
     "name": "stdout",
     "output_type": "stream",
     "text": [
      "Ttest_relResult(statistic=-9.281533480429937, pvalue=2.0235251764440722e-11)\n",
      "Test Statistics = -9.2815, p-value = 0.0000\n"
     ]
    }
   ],
   "source": [
    "print(stats.ttest_rel(SEPERATE.BEFORE, SEPERATE.AFTER))\n",
    "\n",
    "test_statistics, pvalue = stats.ttest_rel(SEPERATE[\"BEFORE\"], SEPERATE[\"AFTER\"])\n",
    "print('Test Statistics = %.4f, p-value = %.4f' % (test_statistics, pvalue))\n",
    "\n",
    "# RESULT:\n",
    "# p_value < 0.05(alpha error value) => H0 denied.\n",
    "# There is a statistically significant difference between the old system and the new system. \n",
    "# This difference is in favor of the new system. "
   ]
  },
  {
   "cell_type": "markdown",
   "metadata": {},
   "source": [
    "### Nonparametric Two Dependent Sample T Test (wilcoxon test)\n",
    "\n",
    "If the assumptions of normality and variance homogeneity were not provided, this nonparametric test would be performed."
   ]
  },
  {
   "cell_type": "code",
   "execution_count": 23,
   "metadata": {},
   "outputs": [
    {
     "name": "stdout",
     "output_type": "stream",
     "text": [
      "WilcoxonResult(statistic=15.0, pvalue=2.491492033374464e-07)\n",
      "Test Statistics = 15.0000, p-value = 0.0000\n"
     ]
    }
   ],
   "source": [
    "print(stats.wilcoxon(SEPERATE.BEFORE, SEPERATE.AFTER))\n",
    "\n",
    "test_statistics, pvalue = stats.wilcoxon(SEPERATE[\"BEFORE\"], SEPERATE[\"AFTER\"])\n",
    "print('Test Statistics = %.4f, p-value = %.4f' % (test_statistics, pvalue))\n",
    "\n",
    "# RESULT:\n",
    "# p_value < 0.05(alpha error value) => H0 denied.\n",
    "# There is a statistically significant difference between the old system and the new system. \n",
    "# This difference is in favor of the new system. "
   ]
  },
  {
   "cell_type": "markdown",
   "metadata": {},
   "source": [
    "# Example 5:  user interface experiment (AB test)\n",
    "\n",
    "The Two Sample Rate Test describes the real-life business application.\n",
    "\n",
    "**Problem:**\n",
    "\n",
    "This test is done to decide the button to be used on the website.\n",
    "\n",
    "**Detail:**\n",
    "\n",
    "* Green button: 1000 views, 300 clicks.\n",
    "* Red button: 1100 views, 250 clicks.\n",
    "\n",
    "**Hypothesis:** \n",
    "\n",
    "* p: conversion rate\n",
    "* p1: green button conversion rate\n",
    "* p2: red button conversion rate\n",
    "\n",
    "\n",
    "* H0: p1  =  p2 \n",
    "* H1: p1 !=  p2"
   ]
  },
  {
   "cell_type": "code",
   "execution_count": 24,
   "metadata": {},
   "outputs": [
    {
     "data": {
      "text/plain": [
       "(3.7857863233209255, 0.0001532232957772221)"
      ]
     },
     "execution_count": 24,
     "metadata": {},
     "output_type": "execute_result"
    }
   ],
   "source": [
    "from statsmodels.stats.proportion import proportions_ztest\n",
    "import numpy as np\n",
    "\n",
    "two_count = np.array([300, 250])     #number of two success\n",
    "two_nobs  = np.array([1000, 1100])   #number of two observations\n",
    "\n",
    "# p_value < 0.05(alpha error value) => H0 denied.\n",
    "proportions_ztest(count = two_count, nobs = two_nobs)\n",
    "\n",
    "# RESULT:\n",
    "# p_value < 0.05(alpha error value) => H0 denied.\n",
    "# Buttons have different effects on user behavior.\n",
    "# This difference is in favor of the green button.\n",
    "# There is a statistically significant difference between the proportions of the two samples."
   ]
  },
  {
   "cell_type": "code",
   "execution_count": null,
   "metadata": {},
   "outputs": [],
   "source": []
  }
 ],
 "metadata": {
  "kernelspec": {
   "display_name": "Python 3",
   "language": "python",
   "name": "python3"
  },
  "language_info": {
   "codemirror_mode": {
    "name": "ipython",
    "version": 3
   },
   "file_extension": ".py",
   "mimetype": "text/x-python",
   "name": "python",
   "nbconvert_exporter": "python",
   "pygments_lexer": "ipython3",
   "version": "3.8.5"
  },
  "widgets": {
   "application/vnd.jupyter.widget-state+json": {
    "state": {},
    "version_major": 2,
    "version_minor": 0
   }
  }
 },
 "nbformat": 4,
 "nbformat_minor": 4
}
